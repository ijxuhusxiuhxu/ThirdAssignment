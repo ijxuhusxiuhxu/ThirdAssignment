{
  "nbformat": 4,
  "nbformat_minor": 0,
  "metadata": {
    "colab": {
      "provenance": []
    },
    "kernelspec": {
      "name": "python3",
      "display_name": "Python 3"
    },
    "language_info": {
      "name": "python"
    }
  },
  "cells": [
    {
      "cell_type": "markdown",
      "source": [
        "#Q1.Why are functions advantageous to have in your programs?"
      ],
      "metadata": {
        "id": "8rmyegEy7qAv"
      }
    },
    {
      "cell_type": "markdown",
      "source": [
        "1.Code Reusability"
      ],
      "metadata": {
        "id": "Ux8ZgTmZ-dme"
      }
    },
    {
      "cell_type": "code",
      "execution_count": 1,
      "metadata": {
        "id": "NX7Sv2PQ7jTe"
      },
      "outputs": [],
      "source": [
        "#Functions allow you to write a block of code once and reuse it multiple times throughout your program. Instead of duplicating code, you can encapsulate a set of instructions within a function and call it whenever needed."
      ]
    },
    {
      "cell_type": "markdown",
      "source": [
        "2.Abstraction"
      ],
      "metadata": {
        "id": "NPqfQ3jn-ZQ4"
      }
    },
    {
      "cell_type": "code",
      "source": [
        "#Functions provide a level of abstraction by hiding the internal implementation details of a particular functionality. When you call a function, you don't need to know how it works internally; you only need to know how to use it. This abstraction simplifies the overall program structure and allows you to focus on high-level logic rather than low-level implementation details"
      ],
      "metadata": {
        "id": "2cish_bs9RtI"
      },
      "execution_count": 2,
      "outputs": []
    },
    {
      "cell_type": "markdown",
      "source": [
        "3.Organization and Readability"
      ],
      "metadata": {
        "id": "jhWMJJeY-Sy9"
      }
    },
    {
      "cell_type": "code",
      "source": [
        "#Functions help in organizing your code by breaking it into smaller, manageable parts. By dividing a complex program into smaller functions, each responsible for a specific task, you can improve the overall readability of your code"
      ],
      "metadata": {
        "id": "wm-SPRlw9k8D"
      },
      "execution_count": null,
      "outputs": []
    },
    {
      "cell_type": "markdown",
      "source": [
        "4.Modularity and Maintainability"
      ],
      "metadata": {
        "id": "QtE_M1On-gSa"
      }
    },
    {
      "cell_type": "code",
      "source": [
        "#Functions enable modular programming, where you can develop and maintain different components of your program independently. By isolating different functionalities within functions, you can update or modify specific parts of your code without affecting the entire program"
      ],
      "metadata": {
        "id": "6csJEBVk-l9I"
      },
      "execution_count": null,
      "outputs": []
    },
    {
      "cell_type": "markdown",
      "source": [
        "5.Testing and Debugging"
      ],
      "metadata": {
        "id": "moIqMKWU-2bC"
      }
    },
    {
      "cell_type": "code",
      "source": [
        "#Functions make it easier to test and debug your code. Since functions represent discrete units of functionality, you can test them individually, ensuring they produce the expected results. If an error occurs within a function, it's easier to identify and fix the issue within a smaller scope rather than searching through the entire program"
      ],
      "metadata": {
        "id": "Wg_aHsOn-50i"
      },
      "execution_count": 3,
      "outputs": []
    },
    {
      "cell_type": "markdown",
      "source": [
        "6.Code Readability"
      ],
      "metadata": {
        "id": "Jqa0SY9g_Ri8"
      }
    },
    {
      "cell_type": "code",
      "source": [
        "# Well-designed functions with proper names and clear input/output parameters enhance code readability. By encapsulating a specific task within a function, you can give it a descriptive name that conveys its purpose"
      ],
      "metadata": {
        "id": "tAnT3cBh_QOC"
      },
      "execution_count": null,
      "outputs": []
    },
    {
      "cell_type": "markdown",
      "source": [
        "#Q2.When does the code in a function run: when it&#39;s specified or when it&#39;s called?"
      ],
      "metadata": {
        "id": "kew1RZ-M_rOU"
      }
    },
    {
      "cell_type": "code",
      "source": [
        "#The code within a function runs when the function is called or invoked. The function definition itself does not execute the code inside it. Instead, it defines the structure and behavior of the function\n",
        "def greet():\n",
        "    print(\"Hello, world!\")\n",
        "\n",
        "# Function definition is specified above.\n",
        "\n",
        "# Function call or invocation\n",
        "greet()  # Output: Hello, world!\n"
      ],
      "metadata": {
        "colab": {
          "base_uri": "https://localhost:8080/"
        },
        "id": "bDPFycDT_3mQ",
        "outputId": "30a53776-5e29-4db2-c847-7a22e2fbb4ab"
      },
      "execution_count": 4,
      "outputs": [
        {
          "output_type": "stream",
          "name": "stdout",
          "text": [
            "Hello, world!\n"
          ]
        }
      ]
    },
    {
      "cell_type": "markdown",
      "source": [
        "#Q3.What statement creates a function?"
      ],
      "metadata": {
        "id": "wAj1vphpAmN4"
      }
    },
    {
      "cell_type": "code",
      "source": [
        "#In most programming languages, including Python, the def statement is used to create a function. The def statement is followed by the name of the function, parentheses \"(),\" and a colon \":\" to indicate the start of the function's block of code.\n",
        "def say_hello():\n",
        "    print(\"Hello!\")\n",
        "\n",
        "# Function named \"say_hello\" is created with the code block inside.\n",
        "# Additionally, you can use the return statement within the function to specify the value that the function should return when called."
      ],
      "metadata": {
        "id": "EUZls621AaeZ"
      },
      "execution_count": 5,
      "outputs": []
    },
    {
      "cell_type": "markdown",
      "source": [
        "#Q4.What is the difference between a function and a function call?"
      ],
      "metadata": {
        "id": "f4LenDcqBL_2"
      }
    },
    {
      "cell_type": "code",
      "source": [
        "#A function, also known as a subroutine or procedure, is a block of code that performs a specific task or set of tasks. It is defined using the def statement or similar syntax in other programming languages\n",
        "# Function definition\n",
        "def greet(name):\n",
        "    print(\"Hello, \" + name + \"!\")\n",
        "\n",
        "# Function call\n",
        "greet(\"Alice\")\n",
        "#On the other hand, a function call is the act of actually invoking or executing a function. When you make a function call, you use the name of the function followed by parentheses () to indicate that you want to execute the code within the function"
      ],
      "metadata": {
        "colab": {
          "base_uri": "https://localhost:8080/"
        },
        "id": "n-2BZY-tA9OG",
        "outputId": "bb835b1a-7fec-4ba2-a9c5-9e81ee6d462d"
      },
      "execution_count": 7,
      "outputs": [
        {
          "output_type": "stream",
          "name": "stdout",
          "text": [
            "Hello, Alice!\n"
          ]
        }
      ]
    },
    {
      "cell_type": "markdown",
      "source": [
        "#Q5.How many global scopes are there in a Python program? How many local scopes?"
      ],
      "metadata": {
        "id": "V6cagF9eB-KG"
      }
    },
    {
      "cell_type": "markdown",
      "source": [
        "Global Scope"
      ],
      "metadata": {
        "id": "YmPgP9NKCqsr"
      }
    },
    {
      "cell_type": "code",
      "source": [
        "#The global scope is the outermost scope in a Python program. It is accessible from anywhere within the program. Variables defined in the global scope are known as global variables and can be accessed by any function or code block in the program\n",
        "global_var = 10  # Global variable in the global scope\n",
        "\n",
        "def my_function():\n",
        "    print(global_var)  # Accessing the global variable\n",
        "\n",
        "my_function()  # Output: 10\n"
      ],
      "metadata": {
        "colab": {
          "base_uri": "https://localhost:8080/"
        },
        "id": "XkIClg6gByU7",
        "outputId": "65012835-7d9b-491b-d158-97ab4932a2e4"
      },
      "execution_count": 8,
      "outputs": [
        {
          "output_type": "stream",
          "name": "stdout",
          "text": [
            "10\n"
          ]
        }
      ]
    },
    {
      "cell_type": "markdown",
      "source": [
        "Local Scopes"
      ],
      "metadata": {
        "id": "le43W8LnC_Q7"
      }
    },
    {
      "cell_type": "code",
      "source": [
        "#Local scopes are created whenever a function is called or when control flows into a code block, such as within loops or conditional statements. Each function call or code block creates its own local scope, which is separate from other scopes.\n",
        "def my_function():\n",
        "    local_var = 20  # Local variable in the local scope\n",
        "    print(local_var)\n",
        "\n",
        "my_function()  # Output: 20\n",
        "\n",
        "print(local_var)  # Raises NameError: name 'local_var' is not defined\n"
      ],
      "metadata": {
        "colab": {
          "base_uri": "https://localhost:8080/",
          "height": 217
        },
        "id": "8-E_V_YHC69W",
        "outputId": "ed1d49cd-df16-475b-9490-d37e2debd028"
      },
      "execution_count": 9,
      "outputs": [
        {
          "output_type": "stream",
          "name": "stdout",
          "text": [
            "20\n"
          ]
        },
        {
          "output_type": "error",
          "ename": "NameError",
          "evalue": "ignored",
          "traceback": [
            "\u001b[0;31m---------------------------------------------------------------------------\u001b[0m",
            "\u001b[0;31mNameError\u001b[0m                                 Traceback (most recent call last)",
            "\u001b[0;32m<ipython-input-9-7c70eeefc426>\u001b[0m in \u001b[0;36m<cell line: 8>\u001b[0;34m()\u001b[0m\n\u001b[1;32m      6\u001b[0m \u001b[0mmy_function\u001b[0m\u001b[0;34m(\u001b[0m\u001b[0;34m)\u001b[0m  \u001b[0;31m# Output: 20\u001b[0m\u001b[0;34m\u001b[0m\u001b[0;34m\u001b[0m\u001b[0m\n\u001b[1;32m      7\u001b[0m \u001b[0;34m\u001b[0m\u001b[0m\n\u001b[0;32m----> 8\u001b[0;31m \u001b[0mprint\u001b[0m\u001b[0;34m(\u001b[0m\u001b[0mlocal_var\u001b[0m\u001b[0;34m)\u001b[0m  \u001b[0;31m# Raises NameError: name 'local_var' is not defined\u001b[0m\u001b[0;34m\u001b[0m\u001b[0;34m\u001b[0m\u001b[0m\n\u001b[0m",
            "\u001b[0;31mNameError\u001b[0m: name 'local_var' is not defined"
          ]
        }
      ]
    },
    {
      "cell_type": "markdown",
      "source": [
        "#Q6.What happens to variables in a local scope when the function call returns?"
      ],
      "metadata": {
        "id": "bXbddgC0DSlO"
      }
    },
    {
      "cell_type": "code",
      "source": [
        "#When a function call returns in Python, the local scope associated with that function is destroyed, and any variables defined within that local scope cease to exist\n",
        "def my_function():\n",
        "    local_var = 20  # Local variable in the local scope\n",
        "    return local_var\n",
        "\n",
        "result = my_function()\n",
        "print(result)  # Output: 20\n",
        "\n",
        "print(local_var)  # Raises NameError: name 'local_var' is not defined\n"
      ],
      "metadata": {
        "colab": {
          "base_uri": "https://localhost:8080/",
          "height": 217
        },
        "id": "rAzCJksqDNBX",
        "outputId": "bc6f168d-5901-4b04-c5fc-2f22a56276a5"
      },
      "execution_count": 10,
      "outputs": [
        {
          "output_type": "stream",
          "name": "stdout",
          "text": [
            "20\n"
          ]
        },
        {
          "output_type": "error",
          "ename": "NameError",
          "evalue": "ignored",
          "traceback": [
            "\u001b[0;31m---------------------------------------------------------------------------\u001b[0m",
            "\u001b[0;31mNameError\u001b[0m                                 Traceback (most recent call last)",
            "\u001b[0;32m<ipython-input-10-13321a06eb48>\u001b[0m in \u001b[0;36m<cell line: 9>\u001b[0;34m()\u001b[0m\n\u001b[1;32m      7\u001b[0m \u001b[0mprint\u001b[0m\u001b[0;34m(\u001b[0m\u001b[0mresult\u001b[0m\u001b[0;34m)\u001b[0m  \u001b[0;31m# Output: 20\u001b[0m\u001b[0;34m\u001b[0m\u001b[0;34m\u001b[0m\u001b[0m\n\u001b[1;32m      8\u001b[0m \u001b[0;34m\u001b[0m\u001b[0m\n\u001b[0;32m----> 9\u001b[0;31m \u001b[0mprint\u001b[0m\u001b[0;34m(\u001b[0m\u001b[0mlocal_var\u001b[0m\u001b[0;34m)\u001b[0m  \u001b[0;31m# Raises NameError: name 'local_var' is not defined\u001b[0m\u001b[0;34m\u001b[0m\u001b[0;34m\u001b[0m\u001b[0m\n\u001b[0m",
            "\u001b[0;31mNameError\u001b[0m: name 'local_var' is not defined"
          ]
        }
      ]
    },
    {
      "cell_type": "markdown",
      "source": [
        "#Q7.What is the concept of a return value? Is it possible to have a return value in an expression?"
      ],
      "metadata": {
        "id": "mSvbyZhpEHxG"
      }
    },
    {
      "cell_type": "code",
      "source": [
        "#The concept of a return value refers to the value that a function can provide as an output when it completes its execution\n",
        "def add_numbers(a, b):\n",
        "    return a + b\n",
        "\n",
        "result = add_numbers(3, 4)\n",
        "print(result)  #\n"
      ],
      "metadata": {
        "colab": {
          "base_uri": "https://localhost:8080/"
        },
        "id": "eC1ypKqFEAXJ",
        "outputId": "f600107f-8d02-458f-f023-757c0b5da2b9"
      },
      "execution_count": 11,
      "outputs": [
        {
          "output_type": "stream",
          "name": "stdout",
          "text": [
            "7\n"
          ]
        }
      ]
    },
    {
      "cell_type": "code",
      "source": [
        "#, no, a return value cannot be used directly within an expression. The return value of a function needs to be assigned to a variable or used in an appropriate context to be utilized\n",
        "def multiply_numbers(a, b):\n",
        "    return a * b\n",
        "\n",
        "result = multiply_numbers(2, 3) + 5\n",
        "print(result)\n",
        "#So, while a return value cannot be used directly within an expression without first assigning it to a variable, once it is assigned, it can be used in any appropriate expression or operation.\n"
      ],
      "metadata": {
        "colab": {
          "base_uri": "https://localhost:8080/"
        },
        "id": "3QZr5sKBEOt1",
        "outputId": "3b8debcc-f318-4076-8f88-1b7513ad0cf7"
      },
      "execution_count": 12,
      "outputs": [
        {
          "output_type": "stream",
          "name": "stdout",
          "text": [
            "11\n"
          ]
        }
      ]
    },
    {
      "cell_type": "markdown",
      "source": [
        "#Q8.If a function does not have a return statement, what is the return value of a call to that function?"
      ],
      "metadata": {
        "id": "g4pnfK-VFSko"
      }
    },
    {
      "cell_type": "code",
      "source": [
        "#If a function does not have a return statement, or if it reaches the end of the function without encountering a return statement, the function call will still return a value. In such cases, the return value is None.\n",
        "def greet():\n",
        "    print(\"Hello, world!\")\n",
        "\n",
        "result = greet()\n",
        "print(result)"
      ],
      "metadata": {
        "colab": {
          "base_uri": "https://localhost:8080/"
        },
        "id": "FndU9WPjEPIF",
        "outputId": "a2a687b5-260f-4f72-b68e-9846b8847b61"
      },
      "execution_count": 13,
      "outputs": [
        {
          "output_type": "stream",
          "name": "stdout",
          "text": [
            "Hello, world!\n",
            "None\n"
          ]
        }
      ]
    },
    {
      "cell_type": "code",
      "source": [
        "#It's important to note that when a function call returns None, it means that the function does not produce a specific value or result. If you attempt to assign the return value of such a function call to a variable or use it within an expression, it will have the value None.\n",
        "def some_function():\n",
        "    # No return statement\n",
        "\n",
        "result = some_function()\n",
        "print(result)  # Output: None\n",
        "\n",
        "# Example of using None within an expression\n",
        "result = some_function() + 5  # Raises TypeError: unsupported operand type(s) for +: 'NoneType' and 'int'\n",
        "#So, when a function does not have a return statement, the return value of the function call is None"
      ],
      "metadata": {
        "colab": {
          "base_uri": "https://localhost:8080/",
          "height": 130
        },
        "id": "iz1NJ5jHEPMI",
        "outputId": "bd8d04a0-7f73-4fa6-f190-ffae4d71c46d"
      },
      "execution_count": 14,
      "outputs": [
        {
          "output_type": "error",
          "ename": "IndentationError",
          "evalue": "ignored",
          "traceback": [
            "\u001b[0;36m  File \u001b[0;32m\"<ipython-input-14-3766dc7a8e24>\"\u001b[0;36m, line \u001b[0;32m5\u001b[0m\n\u001b[0;31m    result = some_function()\u001b[0m\n\u001b[0m    ^\u001b[0m\n\u001b[0;31mIndentationError\u001b[0m\u001b[0;31m:\u001b[0m expected an indented block after function definition on line 2\n"
          ]
        }
      ]
    },
    {
      "cell_type": "markdown",
      "source": [
        "#Q9.How do you make a function variable refer to the global variable?"
      ],
      "metadata": {
        "id": "l9bTsew5Ggf7"
      }
    },
    {
      "cell_type": "code",
      "source": [
        "#To make a function variable refer to a global variable, you can use the global keyword within the function. This keyword allows you to indicate that a particular variable should be treated as a global variable, even if there is a variable with the same name in the local scope.\n",
        "global_var = 10  # Global variable\n",
        "\n",
        "def print_global_var():\n",
        "    global global_var  # Declare global_var as a global variable\n",
        "    print(global_var)\n",
        "\n",
        "print_global_var()"
      ],
      "metadata": {
        "colab": {
          "base_uri": "https://localhost:8080/"
        },
        "id": "2QO2b8gIEPRy",
        "outputId": "c6a9216b-c6d9-4e29-8cb7-8d20086e0752"
      },
      "execution_count": 15,
      "outputs": [
        {
          "output_type": "stream",
          "name": "stdout",
          "text": [
            "10\n"
          ]
        }
      ]
    },
    {
      "cell_type": "markdown",
      "source": [
        "#Q10.What is the data type of None?"
      ],
      "metadata": {
        "id": "EbCr_3BeHn9I"
      }
    },
    {
      "cell_type": "code",
      "source": [
        "#In Python, the data type of None is a special type called NoneType. It is used to represent the absence of a value or a null value. None is a singleton object of type NoneType, and there is only one None object in Python.\n",
        "print(type(None))\n"
      ],
      "metadata": {
        "colab": {
          "base_uri": "https://localhost:8080/"
        },
        "id": "IBwl6CybEPXP",
        "outputId": "26776ff5-f47a-4b0a-b3fb-08a046d72108"
      },
      "execution_count": 16,
      "outputs": [
        {
          "output_type": "stream",
          "name": "stdout",
          "text": [
            "<class 'NoneType'>\n"
          ]
        }
      ]
    },
    {
      "cell_type": "code",
      "source": [
        "#None is often used to denote the absence of a meaningful value or to indicate that a function does not return a specific result\n",
        "def some_function():\n",
        "  result = some_function()\n",
        "print(result)\n",
        "\n",
        "my_variable = None\n",
        "print(my_variable)\n",
        "#It's important to note that None is not the same as an empty string (\"\"), an empty list ([]), or a value of zero (0). Each of these has its own specific meaning and data type"
      ],
      "metadata": {
        "colab": {
          "base_uri": "https://localhost:8080/"
        },
        "id": "DpbRRhBpEPbj",
        "outputId": "b868af1f-a416-4758-ee43-564c7aeffdea"
      },
      "execution_count": 18,
      "outputs": [
        {
          "output_type": "stream",
          "name": "stdout",
          "text": [
            "None\n",
            "None\n"
          ]
        }
      ]
    },
    {
      "cell_type": "markdown",
      "source": [
        "#Q11.What does the sentence import areallyourpetsnamederic do?"
      ],
      "metadata": {
        "id": "skm28pz3JGp1"
      }
    },
    {
      "cell_type": "code",
      "source": [
        "#The sentence \"import areallyourpetsnamederic\" does not have any inherent meaning in the Python language. It appears to be a non-standard import statement that attempts to import a module named \"areallyourpetsnamederic\". However, unless there is a module with that exact name available in the Python environment, this import statement would typically result in a ModuleNotFoundError\n",
        "import math\n",
        "\n",
        "result = math.sqrt(16)\n",
        "print(result)  # Output: 4.0\n",
        "#However, the specific import statement \"import areallyourpetsnamederic\" does not correspond to any built-in or commonly used module in Python. It would typically result in a ModuleNotFoundError unless there is a custom module named \"areallyourpetsnamederic\" available in the Python environment that can be imported"
      ],
      "metadata": {
        "colab": {
          "base_uri": "https://localhost:8080/"
        },
        "id": "SPu2nlriEPf1",
        "outputId": "9b97437a-e588-4678-9209-ecf784bebf4d"
      },
      "execution_count": 19,
      "outputs": [
        {
          "output_type": "stream",
          "name": "stdout",
          "text": [
            "4.0\n"
          ]
        }
      ]
    },
    {
      "cell_type": "markdown",
      "source": [
        "#Q12.If you had a bacon() feature in a spam module, what would you call it after importing spam?"
      ],
      "metadata": {
        "id": "3hk28NYUJ9Fs"
      }
    },
    {
      "cell_type": "code",
      "source": [
        "#After importing the spam module, you can access the bacon() feature by using the dot notation along with the module name.\n",
        "import spam\n",
        "\n",
        "spam.bacon()\n",
        "#The dot notation (spam.bacon()) allows you to specify the module name followed by the feature name to access and use the desired functionality defined within the module."
      ],
      "metadata": {
        "colab": {
          "base_uri": "https://localhost:8080/",
          "height": 356
        },
        "id": "UN4df74wEPkC",
        "outputId": "7e70eb44-867d-4b37-d39b-f451cc8a57c2"
      },
      "execution_count": 20,
      "outputs": [
        {
          "output_type": "error",
          "ename": "ModuleNotFoundError",
          "evalue": "ignored",
          "traceback": [
            "\u001b[0;31m---------------------------------------------------------------------------\u001b[0m",
            "\u001b[0;31mModuleNotFoundError\u001b[0m                       Traceback (most recent call last)",
            "\u001b[0;32m<ipython-input-20-b9f0f310e350>\u001b[0m in \u001b[0;36m<cell line: 2>\u001b[0;34m()\u001b[0m\n\u001b[1;32m      1\u001b[0m \u001b[0;31m#After importing the spam module, you can access the bacon() feature by using the dot notation along with the module name.\u001b[0m\u001b[0;34m\u001b[0m\u001b[0;34m\u001b[0m\u001b[0m\n\u001b[0;32m----> 2\u001b[0;31m \u001b[0;32mimport\u001b[0m \u001b[0mspam\u001b[0m\u001b[0;34m\u001b[0m\u001b[0;34m\u001b[0m\u001b[0m\n\u001b[0m\u001b[1;32m      3\u001b[0m \u001b[0;34m\u001b[0m\u001b[0m\n\u001b[1;32m      4\u001b[0m \u001b[0mspam\u001b[0m\u001b[0;34m.\u001b[0m\u001b[0mbacon\u001b[0m\u001b[0;34m(\u001b[0m\u001b[0;34m)\u001b[0m\u001b[0;34m\u001b[0m\u001b[0;34m\u001b[0m\u001b[0m\n",
            "\u001b[0;31mModuleNotFoundError\u001b[0m: No module named 'spam'",
            "",
            "\u001b[0;31m---------------------------------------------------------------------------\u001b[0;32m\nNOTE: If your import is failing due to a missing package, you can\nmanually install dependencies using either !pip or !apt.\n\nTo view examples of installing some common dependencies, click the\n\"Open Examples\" button below.\n\u001b[0;31m---------------------------------------------------------------------------\u001b[0m\n"
          ],
          "errorDetails": {
            "actions": [
              {
                "action": "open_url",
                "actionText": "Open Examples",
                "url": "/notebooks/snippets/importing_libraries.ipynb"
              }
            ]
          }
        }
      ]
    },
    {
      "cell_type": "markdown",
      "source": [
        "#Q13.What can you do to save a programme from crashing if it encounters an error?"
      ],
      "metadata": {
        "id": "ZNMA7oPrKZlR"
      }
    },
    {
      "cell_type": "code",
      "source": [
        "#To prevent a program from crashing when it encounters an error, you can use error handling techniques. Error handling allows you to gracefully handle exceptions and take appropriate actions to handle or recover from errors rather than abruptly terminating the program. Python provides several mechanisms for error handling, including try and except statements, which are commonly used\n",
        "try:\n",
        "    # Code that may raise an exception\n",
        "    # ...\n",
        "    # ...\n",
        "    # ...\n",
        "  except ExceptionType:\n",
        "    # Code to handle the specific exception\n",
        "    # ...\n",
        "    # ..."
      ],
      "metadata": {
        "id": "aPep1t1AEPsO"
      },
      "execution_count": null,
      "outputs": []
    },
    {
      "cell_type": "code",
      "source": [
        "#It's important to handle exceptions gracefully and provide meaningful error messages or perform appropriate actions based on the specific situation. You can also include multiple except blocks to handle different types of exceptions and take different actions accordingly\n",
        "try:\n",
        "    numerator = 10\n",
        "    denominator = 0\n",
        "    result = numerator / denominator  # Raises ZeroDivisionError\n",
        "except ZeroDivisionError:\n",
        "    print(\"Error: Division by zero\")\n"
      ],
      "metadata": {
        "colab": {
          "base_uri": "https://localhost:8080/"
        },
        "id": "g0O567Z5EPwe",
        "outputId": "6c7c3b34-9fc1-4b55-9ca6-70af20576c15"
      },
      "execution_count": 23,
      "outputs": [
        {
          "output_type": "stream",
          "name": "stdout",
          "text": [
            "Error: Division by zero\n"
          ]
        }
      ]
    },
    {
      "cell_type": "code",
      "source": [
        "#Additionally, you can use other error handling constructs like finally to specify code that should be executed regardless of whether an exception occurs or not. The finally block is useful for tasks like releasing resources or cleaning up after an exception has occurred\n",
        "try:\n",
        "    # Code that may raise an exception\n",
        "    # ...\n",
        "    # ...\n",
        "    # ...\n",
        "except ExceptionType:\n",
        "    # Code to handle the specific exception\n",
        "    # ...\n",
        "    # ...\n",
        "finally:\n",
        "    # Code to be executed regardless of exception\n",
        "    # ...\n",
        "    # ...\n",
        "#By using error handling techniques, you can catch exceptions, handle errors gracefully, and prevent your program from crashing, allowing for better control and reliability."
      ],
      "metadata": {
        "id": "dnZfDUKpEP0b"
      },
      "execution_count": null,
      "outputs": []
    },
    {
      "cell_type": "markdown",
      "source": [
        "#Q14.What is the purpose of the try clause? What is the purpose of the except clause?"
      ],
      "metadata": {
        "id": "CPdMt_x0L-Gv"
      }
    },
    {
      "cell_type": "code",
      "source": [
        "#The purpose of the try clause is to enclose a block of code that may potentially raise an exception. You place the code that might raise an exception within the try block. If an exception occurs during the execution of the code within the try block, the program jumps to the corresponding except block to handle the exception.\n",
        "try:\n",
        "    # Code that may raise an exception\n",
        "    # ...\n",
        "    # ...\n",
        "    # ...\n",
        "except ExceptionType:\n",
        "    # Code to handle the specific exception\n",
        "    # ...\n",
        "    # ..."
      ],
      "metadata": {
        "id": "OWwIrN93EP4L"
      },
      "execution_count": null,
      "outputs": []
    }
  ]
}